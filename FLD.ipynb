{
 "cells": [
  {
   "cell_type": "markdown",
   "metadata": {},
   "source": [
    "<h1><center>CSEN1022:Assignment 1</center></h1>\n",
    "<h3><center>Winter 2021</center></h3>\n",
    "<hr style=\"border:2px solid black\"> </hr>"
   ]
  },
  {
   "cell_type": "markdown",
   "metadata": {},
   "source": [
    "## <u> Please don't forget to fill in this data </u>\n",
    "**Member 1**\n",
    "\n",
    "Name: Youssef Ahmed Wasfy\n",
    "\n",
    "GUC-ID: 43-3793\n",
    "\n",
    "Elective Tutorial No.: T05\n",
    "\n",
    "**Member 2**\n",
    "\n",
    "Name: Omar Khaled Hassan Mohamed\n",
    "\n",
    "GUC-ID: 43-4648\n",
    "\n",
    "Elective Tutorial No.: T06\n",
    "\n",
    "<hr style=\"border:2px solid black\"> </hr>"
   ]
  },
  {
   "cell_type": "markdown",
   "metadata": {},
   "source": [
    "## Imports (Don't Edit)"
   ]
  },
  {
   "cell_type": "code",
   "execution_count": 325,
   "metadata": {},
   "outputs": [],
   "source": [
    "# ONLY USE THESE IMPORTS.\n",
    "# PLEASE DON'T EDIT THIS CELL.\n",
    "import numpy as np\n",
    "import matplotlib.pyplot as plt\n",
    "%matplotlib inline"
   ]
  },
  {
   "cell_type": "markdown",
   "metadata": {},
   "source": [
    "## Read Data (Edit)"
   ]
  },
  {
   "cell_type": "code",
   "execution_count": 326,
   "metadata": {},
   "outputs": [],
   "source": [
    "labels = ['airplane', 'automobile', 'frog']\n",
    "def retrieveData(direc, count):\n",
    "    data = []\n",
    "    for label in labels:\n",
    "        for i in range(count):\n",
    "            img = plt.imread(f'/Users/ahmedwasfy/Downloads/assignment_1-YoussefWasfy-master/Data/{direc}/{label}/'+str(i)+'.jpg').reshape(-1)\n",
    "            data.append([img, label])\n",
    "    return data"
   ]
  },
  {
   "cell_type": "code",
   "execution_count": 327,
   "metadata": {},
   "outputs": [],
   "source": [
    "def getData():\n",
    "    train = retrieveData(\"train\", 5000)\n",
    "    test = retrieveData(\"test\", 1000)\n",
    "    x_train = np.array([img[0] for img in train])/255\n",
    "    y_train = np.array([img[1] for img in train])\n",
    "    X_test = np.array([img[0] for img in test])/255\n",
    "    y_test = np.array([img[1] for img in test ])\n",
    "    return (x_train, y_train), (X_test, y_test)\n",
    "\n"
   ]
  },
  {
   "cell_type": "code",
   "execution_count": 336,
   "metadata": {},
   "outputs": [],
   "source": [
    "train, test = getData()\n",
    "train_data = train[0]\n",
    "train_labels = train[1]\n",
    "X_test = test[0]\n",
    "test_labels = test[1]"
   ]
  },
  {
   "cell_type": "markdown",
   "metadata": {},
   "source": [
    "<hr style=\"border:2px solid black\"> </hr>\n",
    "\n",
    "## Construct Fischer's Linear Discriminant classifier for each of the 3 classes.\n",
    "#### Test each classifier on all images in X_Test. \n",
    "#### Construct Confusion Matrix."
   ]
  },
  {
   "cell_type": "code",
   "execution_count": 338,
   "metadata": {},
   "outputs": [
    {
     "name": "stdout",
     "output_type": "stream",
     "text": [
      "starting airplane\n",
      "starting car\n",
      "starting frog\n",
      "Testing\n",
      "(3, 3)\n",
      "[709, 118, 173]\n",
      "[159, 540, 301]\n",
      "[111, 220, 669]\n"
     ]
    }
   ],
   "source": [
    "# Write code here\n",
    "# Train\n",
    "# airplane\n",
    "print('starting airplane')\n",
    "airplane = np.array(train_data[0:5000])\n",
    "other_classes = np.array(train_data[5000:15000])\n",
    "m_a = np.mean(airplane, axis=0).reshape((-1,1))\n",
    "m_not_a = np.mean(other_classes, axis=0).reshape((-1,1))\n",
    "sw_a = np.empty((3072, 3072))\n",
    "sw_not_a = np.empty((3072, 3072))\n",
    "for img in airplane:\n",
    "    sw_a += (img.reshape((-1,1)) - m_a) @ ((img.reshape((-1,1)) - m_a).reshape((1,3072)))\n",
    "for img in other_classes:\n",
    "    sw_not_a += (img.reshape((-1,1)) - m_not_a) @ (((img.reshape((-1,1)) - m_not_a)).reshape((1,3072)))\n",
    "sw_air = np.add(sw_a, sw_not_a)\n",
    "sw_inverse_air = np.linalg.inv(sw_air)\n",
    "C_air = sw_inverse_air @ (m_a - m_not_a)\n",
    "Wnode_air =  (C_air.reshape((1,3072))) @ (-0.5*(np.add(m_a, m_not_a)))\n",
    "# car\n",
    "print('starting car')\n",
    "car = np.array(train_data[5000:10000])\n",
    "other_classes1 = np.append(train_data[0:5000], train_data[10000:15000]).reshape((10000,3072))\n",
    "m_c = np.mean(car, axis=0).reshape((-1,1))\n",
    "m_not_c = np.mean(other_classes1, axis=0).reshape((-1,1))\n",
    "sw_c = np.empty((3072, 3072))\n",
    "sw_not_c = np.empty((3072, 3072))\n",
    "for img in car:\n",
    "    sw_c += (img.reshape((-1,1)) - m_c) @ ((img.reshape((-1,1)) - m_c).reshape((1,3072)))\n",
    "for img in other_classes1:\n",
    "    sw_not_c += (img.reshape((-1,1)) - m_not_c) @ (((img.reshape((-1,1)) - m_not_c)).reshape((1,3072)))\n",
    "sw_car = np.add(sw_c, sw_not_c)\n",
    "sw_inverse_car = np.linalg.inv(sw_car)\n",
    "C_car = sw_inverse_car @ (m_c - m_not_c)\n",
    "Wnode_car = (C_car.reshape((1,3072))) @ (-0.5*(np.add(m_c, m_not_c)))\n",
    "# Frog\n",
    "print('starting frog')\n",
    "frog = np.array(train_data[10000:15000])\n",
    "other_classes2 = np.array(train_data[0:10000])\n",
    "m_f = np.mean(frog, axis=0).reshape((-1,1))\n",
    "m_not_f = np.mean(other_classes2, axis=0).reshape((-1,1))\n",
    "sw_f = np.empty((3072, 3072))\n",
    "sw_not_f = np.empty((3072, 3072))\n",
    "for img in frog:\n",
    "    sw_f += (img.reshape((-1,1)) - m_f) @ ((img.reshape((-1,1)) - m_f).reshape((1,3072)))\n",
    "for img in other_classes2:\n",
    "    sw_not_f += (img.reshape((-1,1)) - m_not_f) @ (((img.reshape((-1,1)) - m_not_f)).reshape((1,3072)))\n",
    "sw_frog = np.add(sw_f, sw_not_f)\n",
    "sw_inverse_frog = np.linalg.inv(sw_frog)\n",
    "C_frog = sw_inverse_frog @ (m_f - m_not_f)\n",
    "Wnode_frog = (C_frog.reshape((1,3072))) @ (-0.5*(np.add(m_f, m_not_f)))\n",
    "\n",
    "# Test\n",
    "print('Testing')\n",
    "def predict(scount, ecount):\n",
    "    predictions = []\n",
    "    for i in range(scount, ecount):\n",
    "        p_air = np.dot(C_air.reshape(1,3072), X_test[i].reshape((-1,1))) + Wnode_air\n",
    "        p_car = np.dot(C_car.reshape(1,3072), X_test[i].reshape((-1,1))) + Wnode_car\n",
    "        p_frog = np.dot(C_frog.reshape(1,3072), X_test[i].reshape((-1,1))) + Wnode_frog\n",
    "        prediction = [p_air, p_car, p_frog]\n",
    "        index = np.argmax(prediction)\n",
    "        predictions.append(index)\n",
    "    return predictions\n",
    "def prediction_result(predictions):\n",
    "    C_air = 0\n",
    "    C_car= 0\n",
    "    C_frog = 0\n",
    "    for prediction in predictions:\n",
    "        if prediction == 0:\n",
    "            C_air += 1\n",
    "        elif prediction == 1:\n",
    "            C_car += 1\n",
    "        elif prediction == 2:\n",
    "            C_frog +=1\n",
    "    return [C_air, C_car, C_frog]\n",
    "def confusion_mat(first, second, third):\n",
    "    matrices = [first, second, third]\n",
    "    confusion_matrix = []\n",
    "    for matrix in matrices:\n",
    "        for value in matrix:\n",
    "            confusion_matrix.append(value)\n",
    "    return np.array(confusion_matrix).reshape((3,3))\n",
    "            \n",
    "            \n",
    "first_predictions = predict(0,1000)\n",
    "second_predictions = predict(1000,2000)\n",
    "third_predictions = predict(2000, 3000)\n",
    "first_results = prediction_result(first_predictions)\n",
    "second_results = prediction_result(second_predictions)\n",
    "third_results = prediction_result(third_predictions)\n",
    "# confusion_matrix =\n",
    "confusion_matrix = confusion_mat(first_results, second_results, third_results)\n",
    "print(confusion_matrix.shape)\n",
    "print(first_results)\n",
    "print(second_results)\n",
    "print(third_results)\n",
    "\n",
    " "
   ]
  },
  {
   "cell_type": "code",
   "execution_count": 339,
   "metadata": {},
   "outputs": [
    {
     "name": "stdout",
     "output_type": "stream",
     "text": [
      "(3072, 1)\n",
      "(3072, 1)\n"
     ]
    }
   ],
   "source": [
    "print(X_test[0].reshape((-1,1)).shape)\n",
    "print(C_air.shape)"
   ]
  },
  {
   "cell_type": "markdown",
   "metadata": {},
   "source": [
    "## Confusion Matrix (Don't Edit)"
   ]
  },
  {
   "cell_type": "code",
   "execution_count": 340,
   "metadata": {},
   "outputs": [
    {
     "data": {
      "image/png": "[encoded data removed]",
      "text/plain": [
       "<Figure size 360x360 with 1 Axes>"
      ]
     },
     "metadata": {
      "needs_background": "light"
     },
     "output_type": "display_data"
    }
   ],
   "source": [
    "# Make sure the previous cell returns a variable called confusion_matrix\n",
    "# Plot Confusion Matrix\n",
    "accuracy = np.diag(confusion_matrix).sum()/X_test.shape[0]\n",
    "plt.rc('figure', figsize=[5,5])\n",
    "plt.matshow(confusion_matrix,cmap=\"Blues\")\n",
    "plt.title('FLD+RGB = {0:0.3f}'.format(accuracy))\n",
    "for i in range(0,confusion_matrix.shape[0]):\n",
    "    for j in range(0,confusion_matrix.shape[1]):\n",
    "        plt.annotate(confusion_matrix[i,j],(j,i))"
   ]
  },
  {
   "cell_type": "markdown",
   "metadata": {},
   "source": [
    "### Repeat for Grayscale"
   ]
  },
  {
   "cell_type": "code",
   "execution_count": 197,
   "metadata": {},
   "outputs": [],
   "source": []
  },
  {
   "cell_type": "code",
   "execution_count": 254,
   "metadata": {},
   "outputs": [],
   "source": [
    "labels = ['airplane', 'automobile', 'frog']\n",
    "def retrieveData(direc, count):\n",
    "    data = []\n",
    "    for label in labels:\n",
    "        for i in range(count):\n",
    "            img = plt.imread(f'/Users/ahmedwasfy/Downloads/assignment_1-YoussefWasfy-master/Data/{direc}/{label}/'+str(i)+'.jpg')\n",
    "            R, G, B = img[:,:,0], img[:,:,1], img[:,:,2]\n",
    "            img_gray = (0.3 * R) + (0.59 * G) + (0.11 * B)\n",
    "            data.append([img_gray, label])\n",
    "    return data"
   ]
  },
  {
   "cell_type": "code",
   "execution_count": 255,
   "metadata": {},
   "outputs": [],
   "source": [
    "def getData():\n",
    "    train = retrieveData(\"train\", 5000)\n",
    "    test = retrieveData(\"test\", 1000)\n",
    "    x_train = (np.array([img[0] for img in train])/255).reshape(15000,1024)\n",
    "    y_train = np.array([img[1] for img in train])\n",
    "    X_test = (np.array([img[0] for img in test])/255).reshape(3000,1024)\n",
    "    y_test = np.array([img[1] for img in test ])\n",
    "    return (x_train, y_train), (X_test, y_test)\n",
    "\n"
   ]
  },
  {
   "cell_type": "code",
   "execution_count": 256,
   "metadata": {},
   "outputs": [],
   "source": [
    "train, test = getData()\n",
    "train_data = train[0]\n",
    "train_labels = train[1]\n",
    "X_test = test[0]\n",
    "test_labels = test[1]"
   ]
  },
  {
   "cell_type": "code",
   "execution_count": 257,
   "metadata": {},
   "outputs": [
    {
     "name": "stdout",
     "output_type": "stream",
     "text": [
      "(15000, 1024)\n",
      "(3000, 1024)\n"
     ]
    }
   ],
   "source": [
    "print(train_data.shape)\n",
    "print(X_test.shape)"
   ]
  },
  {
   "cell_type": "code",
   "execution_count": 258,
   "metadata": {},
   "outputs": [
    {
     "name": "stdout",
     "output_type": "stream",
     "text": [
      "starting car\n",
      "starting airplane\n",
      "starting frog\n",
      "(3, 3)\n",
      "[649, 138, 213]\n",
      "[154, 606, 240]\n",
      "[214, 237, 549]\n"
     ]
    }
   ],
   "source": [
    "# Write code here\n",
    "# Train\n",
    "print('starting car')\n",
    "# car\n",
    "car = np.array(train_data[5000:10000])\n",
    "other_classes1 = np.append(train_data[0:5000], train_data[10000:15000]).reshape((10000,1024))\n",
    "m_c = np.mean(car, axis=0).reshape((-1,1))\n",
    "m_not_c = np.mean(other_classes1, axis=0).reshape((-1,1))\n",
    "sw_c = np.empty((1024, 1024))\n",
    "sw_not_c = np.empty((1024, 1024))\n",
    "for img in car:\n",
    "    sw_c += (np.subtract(img.reshape((-1,1)), m_c))@((np.subtract(img.reshape((-1,1)), m_c)).reshape((1,1024)))\n",
    "for img in other_classes1:\n",
    "    sw_not_c += (np.subtract(img.reshape((-1,1)), m_not_c))@((np.subtract(img.reshape((-1,1)), m_not_c)).reshape((1,1024)))\n",
    "sw_car = np.add(sw_c, sw_not_c)\n",
    "sw_inverse_car = np.linalg.inv(sw_car)\n",
    "C_car = np.matmul(sw_inverse_car, np.subtract(m_c,m_not_c))\n",
    "Wnode_car = np.matmul(C_car.transpose(), -0.5*(np.add(m_c, m_not_c)))\n",
    "print('starting airplane')\n",
    "# airplane\n",
    "airplane = np.array(train_data[0:5000])\n",
    "other_classes = np.array(train_data[5000:15000])\n",
    "m_a = np.mean(airplane, axis=0).reshape((-1,1))\n",
    "m_not_a = np.mean(other_classes, axis=0).reshape((-1,1))\n",
    "sw_a = np.empty((1024, 1024))\n",
    "sw_not_a = sw_a = np.empty((1024, 1024))\n",
    "for img in airplane:\n",
    "    sw_a += (np.subtract(img.reshape((-1,1)), m_a))@((np.subtract(img.reshape((-1,1)), m_a)).reshape((1,1024)))\n",
    "for img in other_classes:\n",
    "    sw_not_a += (np.subtract(img.reshape((-1,1)), m_not_a))@((np.subtract(img.reshape((-1,1)), m_not_a)).reshape((1,1024)))\n",
    "sw_air = np.add(sw_a, sw_not_a)\n",
    "sw_inverse_air = np.linalg.inv(sw_air)\n",
    "C_air = np.matmul(sw_inverse_air, np.subtract(m_a,m_not_a))\n",
    "Wnode_air = np.matmul(C_air.transpose(), -0.5*(np.add(m_a, m_not_a)))\n",
    "print('starting frog')\n",
    "# Frog\n",
    "frog = np.array(train_data[10000:15000])\n",
    "other_classes2 = np.array(train_data[0:10000])\n",
    "m_f = np.mean(frog, axis=0).reshape((-1,1))\n",
    "m_not_f = np.mean(other_classes2, axis=0).reshape((-1,1))\n",
    "sw_f = np.empty((1024, 1024))\n",
    "sw_not_f = np.empty((1024, 1024))\n",
    "for img in frog:\n",
    "    sw_f += (np.subtract(img.reshape((-1,1)), m_f))@((np.subtract(img.reshape((-1,1)), m_f)).reshape((1,1024)))\n",
    "for img in other_classes2:\n",
    "    sw_not_f += (np.subtract(img.reshape((-1,1)), m_not_f))@((np.subtract(img.reshape((-1,1)), m_not_f)).reshape((1,1024)))\n",
    "sw_frog = np.add(sw_f, sw_not_f)\n",
    "sw_inverse_frog = np.linalg.inv(sw_frog)\n",
    "C_frog = np.matmul(sw_inverse_frog, np.subtract(m_f,m_not_f))\n",
    "Wnode_frog = np.matmul(C_frog.transpose(), -0.5*(np.add(m_f, m_not_f)))\n",
    "\n",
    "# Test\n",
    "def predict(scount, ecount):\n",
    "    predictions = []\n",
    "    for i in range(scount, ecount):\n",
    "        p_air = np.dot(C_air.reshape(1,1024), X_test[i].reshape((-1,1))) + Wnode_air\n",
    "        p_car = np.dot(C_car.reshape(1,1024), X_test[i].reshape((-1,1))) + Wnode_car\n",
    "        p_frog = np.dot(C_frog.reshape(1,1024), X_test[i].reshape((-1,1))) + Wnode_frog\n",
    "        prediction = [p_air, p_car, p_frog]\n",
    "        index = np.argmax(prediction)\n",
    "        predictions.append(index)\n",
    "    return predictions\n",
    "def prediction_result(predictions):\n",
    "    C_air = 0\n",
    "    C_car= 0\n",
    "    C_frog = 0\n",
    "    for prediction in predictions:\n",
    "        if prediction == 0:\n",
    "            C_air += 1\n",
    "        elif prediction == 1:\n",
    "            C_car += 1\n",
    "        elif prediction == 2:\n",
    "            C_frog +=1\n",
    "    return [C_air, C_car, C_frog]\n",
    "def confusion_mat(first, second, third):\n",
    "    matrices = [first, second, third]\n",
    "    confusion_matrix = []\n",
    "    for matrix in matrices:\n",
    "        for value in matrix:\n",
    "            confusion_matrix.append(value)\n",
    "    return np.array(confusion_matrix).reshape((3,3))\n",
    "            \n",
    "            \n",
    "first_predictions = predict(0,1000)\n",
    "second_predictions = predict(1000,2000)\n",
    "third_predictions = predict(2000, 3000)\n",
    "first_results = prediction_result(first_predictions)\n",
    "second_results = prediction_result(second_predictions)\n",
    "third_results = prediction_result(third_predictions)\n",
    "# confusion_matrix =\n",
    "confusion_matrix = confusion_mat(first_results, second_results, third_results)\n",
    "print(confusion_matrix.shape)\n",
    "print(first_results)\n",
    "print(second_results)\n",
    "print(third_results)\n",
    "\n",
    " "
   ]
  },
  {
   "cell_type": "markdown",
   "metadata": {},
   "source": [
    "## Confusion Matrix (Don't Edit)"
   ]
  },
  {
   "cell_type": "code",
   "execution_count": 259,
   "metadata": {},
   "outputs": [
    {
     "data": {
      "image/png": "[encoded data removed]",
      "text/plain": [
       "<Figure size 360x360 with 1 Axes>"
      ]
     },
     "metadata": {
      "needs_background": "light"
     },
     "output_type": "display_data"
    }
   ],
   "source": [
    "# Make sure the previous cell returns a variable called confusion_matrix\n",
    "# Plot Confusion Matrix\n",
    "accuracy = np.diag(confusion_matrix).sum()/X_test.shape[0]\n",
    "plt.rc('figure', figsize=[5,5])\n",
    "plt.matshow(confusion_matrix,cmap=\"Blues\")\n",
    "plt.title('FLD+GRAY = {0:0.3f}'.format(accuracy))\n",
    "for i in range(0,confusion_matrix.shape[0]):\n",
    "    for j in range(0,confusion_matrix.shape[1]):\n",
    "        plt.annotate(confusion_matrix[i,j],(j,i))"
   ]
  },
  {
   "cell_type": "markdown",
   "metadata": {},
   "source": [
    "<hr style=\"border:2px solid black\"> </hr>\n",
    "\n",
    "## Comment on the change of accuracy between RGB and Grayscale\n",
    "##########\n",
    "\n",
    "Write Comment Here\n",
    "\n",
    "...Between the RGB and the grey scale calssification the frog class suffered the biggest loss because the green component in the frog class is crucial to identify a frog and by converting the images to gray scale it immedietly discarded this feature and that's why it has the biggest difference.\n",
    "...\n",
    "...\n",
    "\n",
    "##########\n",
    "<hr style=\"border:2px solid black\"> </hr>"
   ]
  },
  {
   "cell_type": "code",
   "execution_count": null,
   "metadata": {},
   "outputs": [],
   "source": []
  }
 ],
 "metadata": {
  "interpreter": {
   "hash": "31f2aee4e71d21fbe5cf8b01ff0e069b9275f58929596ceb00d14d90e3e16cd6"
  },
  "kernelspec": {
   "display_name": "Python 3 (ipykernel)",
   "language": "python",
   "name": "python3"
  },
  "language_info": {
   "codemirror_mode": {
    "name": "ipython",
    "version": 3
   },
   "file_extension": ".py",
   "mimetype": "text/x-python",
   "name": "python",
   "nbconvert_exporter": "python",
   "pygments_lexer": "ipython3",
   "version": "3.8.10"
  }
 },
 "nbformat": 4,
 "nbformat_minor": 4
}
